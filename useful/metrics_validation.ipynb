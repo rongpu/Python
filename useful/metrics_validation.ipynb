{
 "cells": [
  {
   "cell_type": "code",
   "execution_count": 1,
   "metadata": {
    "collapsed": true
   },
   "outputs": [],
   "source": [
    "%matplotlib inline\n",
    "from __future__ import division, print_function\n",
    "import numpy as np\n",
    "from astropy.table import Table\n",
    "import matplotlib.pyplot as plt\n",
    "from scipy import stats\n",
    "import skgof"
   ]
  },
  {
   "cell_type": "code",
   "execution_count": 2,
   "metadata": {
    "collapsed": true
   },
   "outputs": [],
   "source": [
    "def compute_cdf(a, bins):\n",
    "    \"\"\"\n",
    "    Inputs\n",
    "    ------\n",
    "    a: 1-D array of elements;\n",
    "    bins: bins for the CDF;\n",
    "\n",
    "    Outputs\n",
    "    -------\n",
    "    cdf: 1-D array of CDF values in each bin; \n",
    "    binedges: edges of the bins;\n",
    "    binctr: center of the bins;\n",
    "    \"\"\"\n",
    "    hist, binedges = np.histogram(a, bins=bins)\n",
    "    hist = hist/len(a)\n",
    "    binctr = (binedges[1:] + binedges[:-1])/2.\n",
    "    cdf = np.zeros(len(hist))\n",
    "    cdf[0] = hist[0]\n",
    "    for cdf_index in range(1, len(hist)):\n",
    "        cdf[cdf_index] = cdf[cdf_index-1]+hist[cdf_index]\n",
    "        \n",
    "    return cdf, binedges, binctr"
   ]
  },
  {
   "cell_type": "markdown",
   "metadata": {},
   "source": [
    "## QQ plot"
   ]
  },
  {
   "cell_type": "code",
   "execution_count": null,
   "metadata": {
    "collapsed": true
   },
   "outputs": [],
   "source": []
  },
  {
   "cell_type": "markdown",
   "metadata": {},
   "source": [
    "--------\n",
    "## Generate random data for one-sample tests"
   ]
  },
  {
   "cell_type": "code",
   "execution_count": 3,
   "metadata": {
    "collapsed": true
   },
   "outputs": [],
   "source": [
    "n = 100\n",
    "np.random.seed(2942)\n",
    "a = stats.uniform.rvs(size=n)\n",
    "# Save to file for verification in R\n",
    "t = Table()\n",
    "t['x'] = a\n",
    "t.write('../test/t.dat', format='csv', overwrite=True)"
   ]
  },
  {
   "cell_type": "markdown",
   "metadata": {},
   "source": [
    "------\n",
    "## Cramer-von Mises one-sample"
   ]
  },
  {
   "cell_type": "code",
   "execution_count": 36,
   "metadata": {
    "collapsed": true
   },
   "outputs": [],
   "source": [
    "def cmv_approx(n, x, y, yt):\n",
    "    '''\n",
    "    Calculate approximate Cramer-von Mises statistic using ECDF;\n",
    "    n: sample size;\n",
    "    x: array of the grid; \n",
    "    y: array of gridded CDF values of the sample;\n",
    "    yt: array of gridded CDF values of theoretical distribution;\n",
    "    '''\n",
    "    cmv = n * np.sum(((y - yt)[:-1])**2*(yt[1:]-yt[:-1]))\n",
    "    return cmv"
   ]
  },
  {
   "cell_type": "code",
   "execution_count": 47,
   "metadata": {},
   "outputs": [
    {
     "data": {
      "text/plain": [
       "0.17270146920102905"
      ]
     },
     "execution_count": 47,
     "metadata": {},
     "output_type": "execute_result"
    }
   ],
   "source": [
    "bins = np.linspace(-2, 2, int(1e6))\n",
    "cdf, _, binctr = compute_cdf(a, bins=bins)\n",
    "\n",
    "rv = stats.uniform()\n",
    "cdf_theory = rv.cdf(binctr)\n",
    "\n",
    "cmv_approx(n, binctr, cdf, cdf_theory)"
   ]
  },
  {
   "cell_type": "code",
   "execution_count": 50,
   "metadata": {
    "scrolled": false
   },
   "outputs": [
    {
     "data": {
      "text/plain": [
       "GofResult(statistic=0.1727140499927575, pvalue=0.32758043193335817)"
      ]
     },
     "execution_count": 50,
     "metadata": {},
     "output_type": "execute_result"
    }
   ],
   "source": [
    "# Veriy with scikit-gof\n",
    "skgof.cvm_test(a, stats.uniform())"
   ]
  },
  {
   "cell_type": "markdown",
   "metadata": {},
   "source": [
    "__Run the following code on R to verify the results:__\n",
    "\n",
    "```\n",
    "library(goftest)\n",
    "t = read.table('/Users/roz18/git/PZDC1paper/test/t.dat', header=T, sep=',')\n",
    "cvm.test(t$x, \"punif\")\n",
    "```\n",
    "\n",
    "__Results:__\n",
    "\n",
    "```\n",
    "\tCramer-von Mises test of goodness-of-fit\n",
    "\tNull hypothesis: uniform distribution\n",
    "\n",
    "data:  t$x\n",
    "omega2 = 0.17271, p-value = 0.3276\n",
    "```"
   ]
  },
  {
   "cell_type": "markdown",
   "metadata": {},
   "source": [
    "__My code, scikit-gof and R all give consistent results. Since scikit-gof is readily available, I should use it for the paper. __"
   ]
  },
  {
   "cell_type": "markdown",
   "metadata": {},
   "source": [
    "------\n",
    "## Anderson-Darling one-sample"
   ]
  },
  {
   "cell_type": "code",
   "execution_count": 4,
   "metadata": {
    "collapsed": true
   },
   "outputs": [],
   "source": [
    "def ad_approx(n, x, y, yt):\n",
    "    '''\n",
    "    Calculate approximate Anderson-Darling statistic using ECDF;\n",
    "    n: sample size;\n",
    "    x: array of the grid; \n",
    "    y: array of gridded CDF values of the sample;\n",
    "    yt: array of gridded CDF values of theoretical distribution;\n",
    "    '''\n",
    "    # compute Anderson-Darling statistic\n",
    "    inv_weight = (yt*(1-yt))[:-1]\n",
    "    # remove infinities in the weight function\n",
    "    mask = (inv_weight<1e-5)\n",
    "    inv_weight[mask] = 1\n",
    "    ads = n * np.sum(((y - yt)[:-1])**2*(yt[1:]-yt[:-1])/inv_weight)\n",
    "    return ads"
   ]
  },
  {
   "cell_type": "code",
   "execution_count": 7,
   "metadata": {},
   "outputs": [
    {
     "data": {
      "text/plain": [
       "0.94131840451869031"
      ]
     },
     "execution_count": 7,
     "metadata": {},
     "output_type": "execute_result"
    }
   ],
   "source": [
    "n = 100\n",
    "bins = np.linspace(0, 1., int(1e6))\n",
    "cdf, _, binctr = compute_cdf(a, bins=bins)\n",
    "\n",
    "rv = stats.uniform()\n",
    "cdf_theory = rv.cdf(binctr)\n",
    "\n",
    "ad_approx(n, binctr, cdf, cdf_theory)"
   ]
  },
  {
   "cell_type": "code",
   "execution_count": 9,
   "metadata": {},
   "outputs": [
    {
     "data": {
      "text/plain": [
       "GofResult(statistic=0.94132320139797798, pvalue=0.38934565117409048)"
      ]
     },
     "execution_count": 9,
     "metadata": {},
     "output_type": "execute_result"
    }
   ],
   "source": [
    "# Veriy with scikit-gof\n",
    "skgof.ad_test(a, stats.uniform())"
   ]
  },
  {
   "cell_type": "markdown",
   "metadata": {},
   "source": [
    "__Run the following code on R to verify the results:__\n",
    "\n",
    "```\n",
    "library(goftest)\n",
    "t = read.table('/Users/roz18/git/PZDC1paper/test/t.dat', header=T, sep=',')\n",
    "ad.test(t$x, \"punif\")\n",
    "```\n",
    "\n",
    "__Results:__\n",
    "\n",
    "```\n",
    "\tAnderson-Darling test of goodness-of-fit\n",
    "\tNull hypothesis: uniform distribution\n",
    "\n",
    "data:  t$x\n",
    "An = 0.94132, p-value = 0.3893\n",
    "```"
   ]
  },
  {
   "cell_type": "markdown",
   "metadata": {},
   "source": [
    "__My code, scikit-gof and R all give consistent results. Since scikit-gof is readily available, I should use it for the paper. Scipy have Anderson-Darling but does not support uniform distribution, and gives wrong answers for normal distribution. __"
   ]
  },
  {
   "cell_type": "markdown",
   "metadata": {},
   "source": [
    "---------\n",
    "## Kolmogorov-Smirnov one-sample"
   ]
  },
  {
   "cell_type": "code",
   "execution_count": 72,
   "metadata": {},
   "outputs": [
    {
     "data": {
      "text/plain": [
       "GofResult(statistic=0.10006007833671571, pvalue=0.25207814336923806)"
      ]
     },
     "execution_count": 72,
     "metadata": {},
     "output_type": "execute_result"
    }
   ],
   "source": [
    "# scikit-gof\n",
    "skgof.ks_test(a, stats.uniform())"
   ]
  },
  {
   "cell_type": "code",
   "execution_count": 71,
   "metadata": {},
   "outputs": [
    {
     "data": {
      "text/plain": [
       "KstestResult(statistic=0.10006007833671571, pvalue=0.25256187855309919)"
      ]
     },
     "execution_count": 71,
     "metadata": {},
     "output_type": "execute_result"
    }
   ],
   "source": [
    "# Scipy\n",
    "scipy.stats.kstest(a, 'uniform')"
   ]
  },
  {
   "cell_type": "markdown",
   "metadata": {},
   "source": [
    "------\n",
    "## Anderson Darling two-sample"
   ]
  },
  {
   "cell_type": "code",
   "execution_count": 8,
   "metadata": {
    "collapsed": true
   },
   "outputs": [],
   "source": [
    "def ad_2samp_approx(n1, n2, y1, y2):\n",
    "    '''\n",
    "    Calculate approximate Anderson-Darling statistic from two CDFs;\n",
    "    n1, n2: sample size of the two distribution2;\n",
    "    y1, y2: arrays of gridded CDF values of the two distributions;\n",
    "    '''\n",
    "    n = n1+n2\n",
    "    h = (n1*y1+n2*y2)/n\n",
    "    # compute Anderson-Darling statistic\n",
    "    inv_weight = (h*(1-h))[:-1]\n",
    "    # remove infinities in the weight function\n",
    "    mask = (inv_weight<1e-5)\n",
    "    inv_weight[mask] = 1\n",
    "    ads = n1*n2/n * np.sum(((y2 - y1)[:-1])**2*(h[1:]-h[:-1])/inv_weight)\n",
    "    return ads\n",
    "\n",
    "def ad_2samp_exact(a1, a2):\n",
    "    '''\n",
    "    Calculate exact Anderson-Darling statistic of two samples;\n",
    "    a1, a2: arrays of elements of the two distributions;\n",
    "    '''\n",
    "\n",
    "    n1, n2 = len(a1), len(a2)\n",
    "    n = n1 + n2\n",
    "    z = np.sort(np.concatenate([a1, a2]))\n",
    "    \n",
    "    sum1 = sum2 = 0\n",
    "    for j in range(1, n):\n",
    "        m1j = np.sum(a1<=z[j-1])\n",
    "        m2j = np.sum(a2<=z[j-1])\n",
    "        sum1 += (n*m1j - j*n1)**2/(j*(n-j))\n",
    "        sum2 += (n*m2j - j*n2)**2/(j*(n-j))\n",
    "    \n",
    "    # print(sum1)\n",
    "    # print(sum2)\n",
    "    # It seems that sum1 and sum2 are the same\n",
    "    \n",
    "    return 1/n*(1/n1*sum1+1/n2*sum2)"
   ]
  },
  {
   "cell_type": "code",
   "execution_count": 9,
   "metadata": {
    "collapsed": true
   },
   "outputs": [],
   "source": [
    "n1 = 100\n",
    "n2 = 50\n",
    "\n",
    "np.random.seed(2942)\n",
    "a1 = np.random.randn(n1)+0.1\n",
    "a2 = np.random.randn(n2)\n",
    "\n",
    "bins = np.linspace(-5, 5, int(5e5))\n",
    "cdf1, _, binctr = compute_cdf(a1, bins=bins)\n",
    "cdf2, _, binctr = compute_cdf(a2, bins=bins)"
   ]
  },
  {
   "cell_type": "code",
   "execution_count": 10,
   "metadata": {},
   "outputs": [
    {
     "name": "stdout",
     "output_type": "stream",
     "text": [
      "Approximate solution: \n",
      "0.865540684482\n"
     ]
    }
   ],
   "source": [
    "print('Approximate solution: ')\n",
    "print(ad_2samp_approx(n1, n2, cdf1, cdf2))"
   ]
  },
  {
   "cell_type": "code",
   "execution_count": 11,
   "metadata": {},
   "outputs": [
    {
     "name": "stdout",
     "output_type": "stream",
     "text": [
      "Exact solution: \n",
      "0.865540684482\n"
     ]
    }
   ],
   "source": [
    "print('Exact solution: ')\n",
    "print(ad_2samp_exact(a1, a2))"
   ]
  },
  {
   "cell_type": "markdown",
   "metadata": {},
   "source": [
    "__Note that the exact method might not work when there are ties, especially if a1 and a2 are the same.__ "
   ]
  },
  {
   "cell_type": "code",
   "execution_count": 12,
   "metadata": {
    "scrolled": true
   },
   "outputs": [
    {
     "data": {
      "image/png": "[encoded data removed]",
      "text/plain": [
       "<matplotlib.figure.Figure at 0x116a76510>"
      ]
     },
     "metadata": {},
     "output_type": "display_data"
    }
   ],
   "source": [
    "plt.plot(binctr, cdf1)\n",
    "plt.plot(binctr, cdf2)\n",
    "plt.xlim(-5,5)\n",
    "plt.grid()\n",
    "plt.show()"
   ]
  },
  {
   "cell_type": "code",
   "execution_count": 13,
   "metadata": {
    "collapsed": true
   },
   "outputs": [],
   "source": [
    "# Verify on R\n",
    "t1 = Table()\n",
    "t2 = Table()\n",
    "t1['x'] = a1\n",
    "t2['x'] = a2\n",
    "t1.write('../test/t1.dat', format='csv', overwrite=True)\n",
    "t2.write('../test/t2.dat', format='csv', overwrite=True)"
   ]
  },
  {
   "cell_type": "markdown",
   "metadata": {},
   "source": [
    "__Run the following code on R to verify the results:__\n",
    "\n",
    "```\n",
    "library(kSamples)\n",
    "t1 = read.table('/Users/roz18/git/PZDC1paper/test/t1.dat', header=T, sep=',')\n",
    "t2 = read.table('/Users/roz18/git/PZDC1paper/test/t2.dat', header=T, sep=',')\n",
    "ad.test(t1$x, t2$x)\n",
    "```\n",
    "\n",
    "__Results:__\n",
    "\n",
    "```\n",
    " Anderson-Darling k-sample test.\n",
    "\n",
    "Number of samples:  2\n",
    "Sample sizes:  100, 50\n",
    "Number of ties: 0\n",
    "\n",
    "Mean of  Anderson-Darling  Criterion: 1\n",
    "Standard deviation of  Anderson-Darling  Criterion: 0.75206\n",
    "\n",
    "T.AD = ( Anderson-Darling  Criterion - mean)/sigma\n",
    "\n",
    "Null Hypothesis: All samples come from a common population.\n",
    "\n",
    "               AD    T.AD  asympt. P-value\n",
    "version 1: 0.8655 -0.1788           0.4368\n",
    "version 2: 0.8830 -0.1559           0.4256\n",
    "```"
   ]
  },
  {
   "cell_type": "markdown",
   "metadata": {},
   "source": [
    "__Again Scipy gives a wrong answer (this time a nonsensical negative value):__"
   ]
  },
  {
   "cell_type": "code",
   "execution_count": 208,
   "metadata": {},
   "outputs": [
    {
     "data": {
      "text/plain": [
       "Anderson_ksampResult(statistic=-0.15593449583593094, critical_values=array([ 0.325,  1.226,  1.961,  2.718,  3.752]), significance_level=0.40969005738378117)"
      ]
     },
     "execution_count": 208,
     "metadata": {},
     "output_type": "execute_result"
    }
   ],
   "source": [
    "scipy.stats.anderson_ksamp([a1, a2])"
   ]
  },
  {
   "cell_type": "markdown",
   "metadata": {},
   "source": [
    "--------------"
   ]
  },
  {
   "cell_type": "code",
   "execution_count": 63,
   "metadata": {
    "collapsed": true
   },
   "outputs": [],
   "source": [
    "import statsmodels.api as sm"
   ]
  },
  {
   "cell_type": "code",
   "execution_count": 64,
   "metadata": {},
   "outputs": [
    {
     "data": {
      "image/png": "[encoded data removed]",
      "text/plain": [
       "<matplotlib.figure.Figure at 0x10db526d0>"
      ]
     },
     "metadata": {},
     "output_type": "display_data"
    }
   ],
   "source": [
    "n1 = 100\n",
    "n2 = 50\n",
    "\n",
    "np.random.seed(2112)\n",
    "a1 = np.random.randn(n1)+0.1\n",
    "a2 = np.random.randn(n2)\n",
    "ecdf1 = sm.distributions.ECDF(a1)\n",
    "ecdf2 = sm.distributions.ECDF(a2)\n",
    "\n",
    "x = np.linspace(min(a1), max(a1), 10000)\n",
    "y = ecdf1(x)\n",
    "plt.step(x, y)\n",
    "plt.grid()\n",
    "plt.show()"
   ]
  },
  {
   "cell_type": "markdown",
   "metadata": {},
   "source": [
    "-------------"
   ]
  },
  {
   "cell_type": "markdown",
   "metadata": {},
   "source": [
    "## Kolmogorov-Smirnov Test"
   ]
  },
  {
   "cell_type": "code",
   "execution_count": 192,
   "metadata": {
    "collapsed": true
   },
   "outputs": [],
   "source": [
    "def ks_2smp(y1, y2):\n",
    "    '''\n",
    "    Calculate approximate Kolmogorov-Smirnov statistic from two CDFs;\n",
    "    y1, y2: arrays of gridded CDF values of the two distributions;\n",
    "    '''\n",
    "    return np.max(np.abs(y1-y2))"
   ]
  },
  {
   "cell_type": "code",
   "execution_count": 188,
   "metadata": {},
   "outputs": [
    {
     "data": {
      "text/plain": [
       "0.26000000000000012"
      ]
     },
     "execution_count": 188,
     "metadata": {},
     "output_type": "execute_result"
    }
   ],
   "source": [
    "ks_2samp(cdf1, cdf2)"
   ]
  },
  {
   "cell_type": "code",
   "execution_count": 194,
   "metadata": {},
   "outputs": [
    {
     "data": {
      "text/plain": [
       "Ks_2sampResult(statistic=0.26000000000000001, pvalue=0.01771724231168605)"
      ]
     },
     "execution_count": 194,
     "metadata": {},
     "output_type": "execute_result"
    }
   ],
   "source": [
    "scipy.stats.ks_2samp(a1, a2)"
   ]
  },
  {
   "cell_type": "code",
   "execution_count": null,
   "metadata": {
    "collapsed": true
   },
   "outputs": [],
   "source": []
  }
 ],
 "metadata": {
  "anaconda-cloud": {},
  "kernelspec": {
   "display_name": "Python [Root]",
   "language": "python",
   "name": "Python [Root]"
  },
  "language_info": {
   "codemirror_mode": {
    "name": "ipython",
    "version": 2
   },
   "file_extension": ".py",
   "mimetype": "text/x-python",
   "name": "python",
   "nbconvert_exporter": "python",
   "pygments_lexer": "ipython2",
   "version": "2.7.11"
  }
 },
 "nbformat": 4,
 "nbformat_minor": 2
}
